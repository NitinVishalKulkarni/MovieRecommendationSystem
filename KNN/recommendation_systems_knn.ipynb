{
 "cells": [
  {
   "cell_type": "code",
   "execution_count": 1,
   "metadata": {},
   "outputs": [],
   "source": [
    "# Imports\n",
    "import numpy as np\n",
    "import pandas as pd\n",
    "from sklearn.neighbors import NearestNeighbors"
   ]
  },
  {
   "cell_type": "code",
   "execution_count": 2,
   "metadata": {},
   "outputs": [],
   "source": [
    "# Reading the MovieLens Dataset:\n",
    "movies = pd.read_csv('movies.csv')\n",
    "ratings = pd.read_csv('ratings.csv')"
   ]
  },
  {
   "cell_type": "code",
   "execution_count": 3,
   "metadata": {},
   "outputs": [
    {
     "name": "stdout",
     "output_type": "stream",
     "text": [
      "\n",
      "Shape of Movie Data: (9742, 3)\n",
      "\n",
      "Shape of Ratings Data: (100836, 4)\n"
     ]
    }
   ],
   "source": [
    "# Printing some statistics about the data sets.\n",
    "print('\\nShape of Movie Data:', movies.shape)\n",
    "print('\\nShape of Ratings Data:', ratings.shape)"
   ]
  },
  {
   "cell_type": "code",
   "execution_count": 4,
   "metadata": {},
   "outputs": [
    {
     "name": "stdout",
     "output_type": "stream",
     "text": [
      "\n",
      "First 5 rows of Movie Data:\n",
      "\n",
      "    movieId                               title  \\\n",
      "0        1                    Toy Story (1995)   \n",
      "1        2                      Jumanji (1995)   \n",
      "2        3             Grumpier Old Men (1995)   \n",
      "3        4            Waiting to Exhale (1995)   \n",
      "4        5  Father of the Bride Part II (1995)   \n",
      "\n",
      "                                        genres  \n",
      "0  Adventure|Animation|Children|Comedy|Fantasy  \n",
      "1                   Adventure|Children|Fantasy  \n",
      "2                               Comedy|Romance  \n",
      "3                         Comedy|Drama|Romance  \n",
      "4                                       Comedy  \n",
      "\n",
      "\n",
      "First 5 rows of Ratings Data:\n",
      "\n",
      "    userId  movieId  rating  timestamp\n",
      "0       1        1     4.0  964982703\n",
      "1       1        3     4.0  964981247\n",
      "2       1        6     4.0  964982224\n",
      "3       1       47     5.0  964983815\n",
      "4       1       50     5.0  964982931\n"
     ]
    }
   ],
   "source": [
    "# Printing the first 5 rows of the data sets.\n",
    "print('\\nFirst 5 rows of Movie Data:\\n\\n', movies.head())\n",
    "print('\\n\\nFirst 5 rows of Ratings Data:\\n\\n', ratings.head())"
   ]
  },
  {
   "cell_type": "code",
   "execution_count": 5,
   "metadata": {},
   "outputs": [
    {
     "name": "stdout",
     "output_type": "stream",
     "text": [
      "\n",
      "Movie Dataset Description:\n",
      "\n",
      "              movieId\n",
      "count    9742.000000\n",
      "mean    42200.353623\n",
      "std     52160.494854\n",
      "min         1.000000\n",
      "25%      3248.250000\n",
      "50%      7300.000000\n",
      "75%     76232.000000\n",
      "max    193609.000000\n",
      "\n",
      "\n",
      "Ratings Dataset Description:\n",
      "\n",
      "               userId        movieId         rating     timestamp\n",
      "count  100836.000000  100836.000000  100836.000000  1.008360e+05\n",
      "mean      326.127564   19435.295718       3.501557  1.205946e+09\n",
      "std       182.618491   35530.987199       1.042529  2.162610e+08\n",
      "min         1.000000       1.000000       0.500000  8.281246e+08\n",
      "25%       177.000000    1199.000000       3.000000  1.019124e+09\n",
      "50%       325.000000    2991.000000       3.500000  1.186087e+09\n",
      "75%       477.000000    8122.000000       4.000000  1.435994e+09\n",
      "max       610.000000  193609.000000       5.000000  1.537799e+09\n"
     ]
    }
   ],
   "source": [
    "# Description of the data sets.\n",
    "print('\\nMovie Dataset Description:\\n\\n', movies.describe())\n",
    "print('\\n\\nRatings Dataset Description:\\n\\n', ratings.describe())"
   ]
  },
  {
   "cell_type": "code",
   "execution_count": 6,
   "metadata": {},
   "outputs": [],
   "source": [
    "# Merging the two data sets.\n",
    "movie_lens = pd.merge(movies, ratings, on='movieId').drop('timestamp', axis=1)"
   ]
  },
  {
   "cell_type": "code",
   "execution_count": 7,
   "metadata": {},
   "outputs": [
    {
     "name": "stdout",
     "output_type": "stream",
     "text": [
      "\n",
      "First 5 rows of the MovieLens Dataset:\n",
      "\n",
      "    movieId             title                                       genres  \\\n",
      "0        1  Toy Story (1995)  Adventure|Animation|Children|Comedy|Fantasy   \n",
      "1        1  Toy Story (1995)  Adventure|Animation|Children|Comedy|Fantasy   \n",
      "2        1  Toy Story (1995)  Adventure|Animation|Children|Comedy|Fantasy   \n",
      "3        1  Toy Story (1995)  Adventure|Animation|Children|Comedy|Fantasy   \n",
      "4        1  Toy Story (1995)  Adventure|Animation|Children|Comedy|Fantasy   \n",
      "\n",
      "   userId  rating  \n",
      "0       1     4.0  \n",
      "1       5     4.0  \n",
      "2       7     4.5  \n",
      "3      15     2.5  \n",
      "4      17     4.5  \n",
      "\n",
      "\n",
      "MovieLens Dataset Shape: (100836, 5)\n",
      "\n",
      "Description of the MovieLens Dataset:\n",
      "\n",
      "              movieId         userId         rating\n",
      "count  100836.000000  100836.000000  100836.000000\n",
      "mean    19435.295718     326.127564       3.501557\n",
      "std     35530.987199     182.618491       1.042529\n",
      "min         1.000000       1.000000       0.500000\n",
      "25%      1199.000000     177.000000       3.000000\n",
      "50%      2991.000000     325.000000       3.500000\n",
      "75%      8122.000000     477.000000       4.000000\n",
      "max    193609.000000     610.000000       5.000000\n"
     ]
    }
   ],
   "source": [
    "# Printing some statistics about the MovieLens Dataset.\n",
    "print('\\nFirst 5 rows of the MovieLens Dataset:\\n\\n', movie_lens.head())\n",
    "print('\\n\\nMovieLens Dataset Shape:', movie_lens.shape)\n",
    "print('\\nDescription of the MovieLens Dataset:\\n\\n', movie_lens.describe())"
   ]
  },
  {
   "cell_type": "markdown",
   "metadata": {},
   "source": [
    "# Creating Movie Recommendations for New Users"
   ]
  },
  {
   "cell_type": "code",
   "execution_count": 8,
   "metadata": {},
   "outputs": [
    {
     "name": "stdout",
     "output_type": "stream",
     "text": [
      "Recommended Movies:\n",
      "\n",
      "['Shawshank Redemption, The (1994)']\n",
      "['Sunset Blvd. (a.k.a. Sunset Boulevard) (1950)']\n",
      "['Philadelphia Story, The (1940)']\n",
      "['In the Name of the Father (1993)']\n",
      "['Lawrence of Arabia (1962)']\n",
      "['Hoop Dreams (1994)']\n",
      "['Godfather, The (1972)']\n",
      "['Harold and Maude (1971)']\n",
      "['Logan (2017)']\n",
      "['Fight Club (1999)']\n",
      "['Cool Hand Luke (1967)']\n",
      "['Dr. Strangelove or: How I Learned to Stop Worrying and Love the Bomb (1964)']\n",
      "['Rear Window (1954)']\n",
      "['Godfather: Part II, The (1974)']\n",
      "['Departed, The (2006)']\n",
      "['Goodfellas (1990)']\n",
      "['Manchurian Candidate, The (1962)']\n",
      "['Casablanca (1942)']\n",
      "['Dark Knight, The (2008)']\n",
      "['Usual Suspects, The (1995)']\n"
     ]
    }
   ],
   "source": [
    "# Creating Movie Recommendations for new users.\n",
    "\n",
    "# Getting the unique movie IDs.\n",
    "unique_movie_ids = np.unique(movie_lens['movieId'])\n",
    "\n",
    "# Calculating the average movie rating for movies with more than 20 ratings.\n",
    "average_movie_ratings = {}\n",
    "for movie_id in unique_movie_ids:\n",
    "    movie_ratings = movie_lens['rating'].loc[movie_lens['movieId'] == movie_id]\n",
    "    if len(movie_ratings) > 20:\n",
    "        average_movie_ratings[movie_id] = (np.mean(movie_ratings))\n",
    "\n",
    "# Sorting the average movie ratings.\n",
    "sorted_average_movie_ratings = sorted(average_movie_ratings.items(), key=lambda x: x[1], reverse=True)[:20]\n",
    "\n",
    "# Getting the recommended movie titles for a new user.\n",
    "recommended_movie_titles = []\n",
    "for movie_id in sorted_average_movie_ratings:\n",
    "    recommended_movie_titles.append(np.unique(movie_lens['title'].loc[movie_lens['movieId'] == movie_id[0]]))\n",
    "    \n",
    "# Printing the recommended movies for the user.\n",
    "print('Recommended Movies:\\n')\n",
    "for movie_title in recommended_movie_titles:\n",
    "    print(movie_title)"
   ]
  },
  {
   "cell_type": "markdown",
   "metadata": {},
   "source": [
    "For a new user, I am recommeding the top 20 movies. These will be movies which have more than 20 reviews and have the highest average rating across all those reviews. Thus this approach recommends the popular choice to the user."
   ]
  },
  {
   "cell_type": "markdown",
   "metadata": {},
   "source": [
    "# Creating Movie Recommendations for Existing Users"
   ]
  },
  {
   "cell_type": "code",
   "execution_count": 9,
   "metadata": {},
   "outputs": [
    {
     "name": "stdout",
     "output_type": "stream",
     "text": [
      "Unique Genres in the MovieLens Dataset:\n",
      "\n",
      "Adventure\n",
      "Animation\n",
      "Children\n",
      "Comedy\n",
      "Fantasy\n",
      "Romance\n",
      "Drama\n",
      "Action\n",
      "Crime\n",
      "Thriller\n",
      "Horror\n",
      "Mystery\n",
      "Sci-Fi\n",
      "War\n",
      "Musical\n",
      "Documentary\n",
      "IMAX\n",
      "Western\n",
      "Film-Noir\n",
      "(no genres listed)\n"
     ]
    }
   ],
   "source": [
    "# Unique Generes from the dataset description.\n",
    "unique_genres = []\n",
    "for i in range(len(movies)):\n",
    "    unique_genres_per_movie = np.unique(movies['genres'].iloc[i].split('|'))\n",
    "    for unique_genre in unique_genres_per_movie:\n",
    "        if unique_genre not in unique_genres:\n",
    "            unique_genres.append(unique_genre)\n",
    "\n",
    "# Printing the unique genres in the MovieLens Dataset.\n",
    "print('Unique Genres in the MovieLens Dataset:\\n')\n",
    "for unique_genre in unique_genres:\n",
    "    print(unique_genre)"
   ]
  },
  {
   "cell_type": "code",
   "execution_count": 10,
   "metadata": {},
   "outputs": [
    {
     "name": "stdout",
     "output_type": "stream",
     "text": [
      "Unique Genres Dataframe:\n",
      "\n",
      " Empty DataFrame\n",
      "Columns: [Adventure, Animation, Children, Comedy, Fantasy, Romance, Drama, Action, Crime, Thriller, Horror, Mystery, Sci-Fi, War, Musical, Documentary, IMAX, Western, Film-Noir, (no genres listed)]\n",
      "Index: []\n"
     ]
    }
   ],
   "source": [
    "# Creating a dataframe of unique genres.\n",
    "unique_genres_df = pd.DataFrame(columns=unique_genres)\n",
    "\n",
    "# Printing the unique genres dataframe.\n",
    "print('Unique Genres Dataframe:\\n\\n', unique_genres_df)"
   ]
  },
  {
   "cell_type": "code",
   "execution_count": 11,
   "metadata": {},
   "outputs": [
    {
     "name": "stdout",
     "output_type": "stream",
     "text": [
      "User Datframe:\n",
      "\n",
      "        movieId                           title  \\\n",
      "0            1                Toy Story (1995)   \n",
      "325          3         Grumpier Old Men (1995)   \n",
      "433          6                     Heat (1995)   \n",
      "2107        47     Seven (a.k.a. Se7en) (1995)   \n",
      "2379        50      Usual Suspects, The (1995)   \n",
      "...        ...                             ...   \n",
      "56816     3744                    Shaft (2000)   \n",
      "57276     3793                    X-Men (2000)   \n",
      "57457     3809          What About Bob? (1991)   \n",
      "59170     4006  Transformers: The Movie (1986)   \n",
      "65533     5060    M*A*S*H (a.k.a. MASH) (1970)   \n",
      "\n",
      "                                            genres  userId  rating  \n",
      "0      Adventure|Animation|Children|Comedy|Fantasy       1     4.0  \n",
      "325                                 Comedy|Romance       1     4.0  \n",
      "433                          Action|Crime|Thriller       1     4.0  \n",
      "2107                              Mystery|Thriller       1     5.0  \n",
      "2379                        Crime|Mystery|Thriller       1     5.0  \n",
      "...                                            ...     ...     ...  \n",
      "56816                        Action|Crime|Thriller       1     4.0  \n",
      "57276                      Action|Adventure|Sci-Fi       1     5.0  \n",
      "57457                                       Comedy       1     4.0  \n",
      "59170          Adventure|Animation|Children|Sci-Fi       1     4.0  \n",
      "65533                             Comedy|Drama|War       1     5.0  \n",
      "\n",
      "[232 rows x 5 columns]\n"
     ]
    }
   ],
   "source": [
    "# Selecting user with userID 1 for movie recommendations. You can change this to any valid userID.\n",
    "user = movie_lens.loc[movie_lens['userId'] == 1]\n",
    "\n",
    "# Printing the user dataframe.\n",
    "print('User Datframe:\\n\\n', user)"
   ]
  },
  {
   "cell_type": "code",
   "execution_count": 12,
   "metadata": {},
   "outputs": [
    {
     "name": "stdout",
     "output_type": "stream",
     "text": [
      "Genres for which the user has left a rating:\n",
      "\n",
      "Adventure\n",
      "Animation\n",
      "Children\n",
      "Comedy\n",
      "Fantasy\n",
      "Romance\n",
      "Action\n",
      "Crime\n",
      "Thriller\n",
      "Mystery\n",
      "Horror\n",
      "Drama\n",
      "War\n",
      "Western\n",
      "Sci-Fi\n",
      "Musical\n",
      "Film-Noir\n"
     ]
    },
    {
     "name": "stderr",
     "output_type": "stream",
     "text": [
      "c:\\program files\\python36\\lib\\site-packages\\pandas\\core\\indexing.py:670: SettingWithCopyWarning: \n",
      "A value is trying to be set on a copy of a slice from a DataFrame\n",
      "\n",
      "See the caveats in the documentation: https://pandas.pydata.org/pandas-docs/stable/user_guide/indexing.html#returning-a-view-versus-a-copy\n",
      "  self._setitem_with_indexer(indexer, value)\n",
      "c:\\program files\\python36\\lib\\site-packages\\ipykernel_launcher.py:4: SettingWithCopyWarning: \n",
      "A value is trying to be set on a copy of a slice from a DataFrame\n",
      "\n",
      "See the caveats in the documentation: https://pandas.pydata.org/pandas-docs/stable/user_guide/indexing.html#returning-a-view-versus-a-copy\n",
      "  after removing the cwd from sys.path.\n"
     ]
    }
   ],
   "source": [
    "# Replacing the generes in the user dataframe with the list of genres.\n",
    "for i in range(len(user['genres'])):\n",
    "    genres = user['genres'].iloc[i].split('|')\n",
    "    user['genres'].iloc[i] = genres\n",
    "\n",
    "# Getting the unique genres for which the user has left a rating.\n",
    "unique_genres_user = []\n",
    "for i in range(len(user['genres'])):\n",
    "    rated_movie_genres = np.unique(user['genres'].iloc[i])\n",
    "    for rated_movie_genre in rated_movie_genres:\n",
    "        if rated_movie_genre not in unique_genres_user:\n",
    "            unique_genres_user.append(rated_movie_genre)\n",
    "            \n",
    "# Printing the unique genres for which the user has left a rating.\n",
    "print('Genres for which the user has left a rating:\\n')\n",
    "for unique_genre_user in unique_genres_user:\n",
    "    print(unique_genre_user)"
   ]
  },
  {
   "cell_type": "code",
   "execution_count": 13,
   "metadata": {},
   "outputs": [
    {
     "name": "stdout",
     "output_type": "stream",
     "text": [
      "Average rating per genre for the user:\n",
      "\n",
      "Adventure---> \t 4.3882352941176475\n",
      "Animation---> \t 4.689655172413793\n",
      "Children---> \t 4.5476190476190474\n",
      "Comedy---> \t 4.27710843373494\n",
      "Fantasy---> \t 4.297872340425532\n",
      "Romance---> \t 4.3076923076923075\n",
      "Action---> \t 4.322222222222222\n",
      "Crime---> \t 4.355555555555555\n",
      "Thriller---> \t 4.1454545454545455\n",
      "Mystery---> \t 4.166666666666667\n",
      "Horror---> \t 3.4705882352941178\n",
      "Drama---> \t 4.529411764705882\n",
      "War---> \t 4.5\n",
      "Western---> \t 4.285714285714286\n",
      "Sci-Fi---> \t 4.225\n",
      "Musical---> \t 4.681818181818182\n",
      "Film-Noir---> \t 5.0\n"
     ]
    }
   ],
   "source": [
    "# Calculating the average rating per genre for the user.\n",
    "average_rating_per_genre_user = {}\n",
    "for unique_genre in unique_genres_user:\n",
    "    ratings = []\n",
    "    for i in range(len(user['genres'])):\n",
    "        if unique_genre in user['genres'].iloc[i]:\n",
    "            ratings.append(user['rating'].iloc[i])\n",
    "    average_rating_per_genre_user[unique_genre] = np.mean(ratings)\n",
    "\n",
    "# Printing the average rating per genre for the user.\n",
    "print('Average rating per genre for the user:\\n')\n",
    "for average_rating in average_rating_per_genre_user.items():\n",
    "    print(f'{average_rating[0]}---> \\t {average_rating[1]}')"
   ]
  },
  {
   "cell_type": "code",
   "execution_count": 14,
   "metadata": {},
   "outputs": [
    {
     "name": "stdout",
     "output_type": "stream",
     "text": [
      "User dataframe:\n",
      "\n",
      "    (no genres listed)    Action  Adventure  Animation  Children    Comedy  \\\n",
      "0                   0  4.322222   4.388235   4.689655  4.547619  4.277108   \n",
      "\n",
      "      Crime  Documentary     Drama   Fantasy  ...    Horror  IMAX   Musical  \\\n",
      "0  4.355556            0  4.529412  4.297872  ...  3.470588     0  4.681818   \n",
      "\n",
      "    Mystery   Romance  Sci-Fi  Thriller  War   Western  movieId  \n",
      "0  4.166667  4.307692   4.225  4.145455  4.5  4.285714        0  \n",
      "\n",
      "[1 rows x 21 columns]\n"
     ]
    }
   ],
   "source": [
    "# Creating the user average rating per genre dataframe.\n",
    "user_df = pd.DataFrame(average_rating_per_genre_user, index=[0])\n",
    "user_df = unique_genres_df.merge(user_df, how='outer')\n",
    "\n",
    "# Sorting all the columns alphabetically.\n",
    "user_df = user_df.reindex(sorted(user_df.columns), axis=1)\n",
    "\n",
    "# Adding the movieId column with the value 0. \n",
    "#This is just for easier comparison with the average movie rating dataframe which is created below.\n",
    "user_df.insert(20, 'movieId', 0)\n",
    "\n",
    "# Filling the missing values with 0.\n",
    "user_df = user_df.fillna(0)\n",
    "\n",
    "# Printing the user dataframe.\n",
    "print('User dataframe:\\n\\n', user_df)"
   ]
  },
  {
   "cell_type": "code",
   "execution_count": 15,
   "metadata": {},
   "outputs": [],
   "source": [
    "# Getting the unique movie IDs.\n",
    "unique_movie_ids = np.unique(movie_lens['movieId'])\n",
    "\n",
    "# Calculating the average movie rating for movies with more than 20 ratings and are not already rated by the user.\n",
    "average_movie_ratings = {}\n",
    "for movie_id in unique_movie_ids:\n",
    "    if movie_id not in np.unique(user['movieId']):\n",
    "        movie_ratings = movie_lens['rating'].loc[movie_lens['movieId'] == movie_id]\n",
    "        if len(movie_ratings) > 20:\n",
    "            average_movie_ratings[movie_id] = (np.mean(movie_ratings))"
   ]
  },
  {
   "cell_type": "code",
   "execution_count": 16,
   "metadata": {},
   "outputs": [
    {
     "name": "stderr",
     "output_type": "stream",
     "text": [
      "c:\\program files\\python36\\lib\\site-packages\\pandas\\core\\indexing.py:670: SettingWithCopyWarning: \n",
      "A value is trying to be set on a copy of a slice from a DataFrame\n",
      "\n",
      "See the caveats in the documentation: https://pandas.pydata.org/pandas-docs/stable/user_guide/indexing.html#returning-a-view-versus-a-copy\n",
      "  self._setitem_with_indexer(indexer, value)\n"
     ]
    },
    {
     "name": "stdout",
     "output_type": "stream",
     "text": [
      "Average Movie Ratings Dataframe:\n",
      "\n",
      "       (no genres listed)    Action  Adventure  Animation  Children    Comedy  \\\n",
      "0                      0  0.000000   3.431818   0.000000  3.431818  0.000000   \n",
      "1                      0  0.000000   0.000000   0.000000  0.000000  3.071429   \n",
      "2                      0  0.000000   0.000000   0.000000  0.000000  3.185185   \n",
      "3                      0  3.496212   3.496212   0.000000  0.000000  0.000000   \n",
      "4                      0  0.000000   0.000000   0.000000  0.000000  3.671429   \n",
      "...                  ...       ...        ...        ...       ...       ...   \n",
      "1050                   0  0.000000   0.000000   0.000000  0.000000  0.000000   \n",
      "1051                   0  3.890625   3.890625   3.890625  3.890625  3.890625   \n",
      "1052                   0  0.000000   0.000000   0.000000  0.000000  0.000000   \n",
      "1053                   0  3.925926   3.925926   0.000000  0.000000  0.000000   \n",
      "1054                   0  4.280000   0.000000   0.000000  0.000000  0.000000   \n",
      "\n",
      "      Crime  Documentary     Drama   Fantasy  ...  Horror  IMAX  Musical  \\\n",
      "0       0.0          0.0  0.000000  3.431818  ...     0.0   0.0      0.0   \n",
      "1       0.0          0.0  0.000000  0.000000  ...     0.0   0.0      0.0   \n",
      "2       0.0          0.0  0.000000  0.000000  ...     0.0   0.0      0.0   \n",
      "3       0.0          0.0  0.000000  0.000000  ...     0.0   0.0      0.0   \n",
      "4       0.0          0.0  3.671429  0.000000  ...     0.0   0.0      0.0   \n",
      "...     ...          ...       ...       ...  ...     ...   ...      ...   \n",
      "1050    0.0          0.0  3.961538  0.000000  ...     0.0   0.0      0.0   \n",
      "1051    0.0          0.0  0.000000  0.000000  ...     0.0   0.0      0.0   \n",
      "1052    0.0          0.0  0.000000  0.000000  ...     0.0   0.0      0.0   \n",
      "1053    0.0          0.0  0.000000  3.925926  ...     0.0   0.0      0.0   \n",
      "1054    0.0          0.0  0.000000  0.000000  ...     0.0   0.0      0.0   \n",
      "\n",
      "      Mystery   Romance    Sci-Fi  Thriller  War  Western  movieId  \n",
      "0         0.0  0.000000  0.000000  0.000000  0.0      0.0        2  \n",
      "1         0.0  0.000000  0.000000  0.000000  0.0      0.0        5  \n",
      "2         0.0  3.185185  0.000000  0.000000  0.0      0.0        7  \n",
      "3         0.0  0.000000  0.000000  3.496212  0.0      0.0       10  \n",
      "4         0.0  3.671429  0.000000  0.000000  0.0      0.0       11  \n",
      "...       ...       ...       ...       ...  ...      ...      ...  \n",
      "1050      0.0  0.000000  0.000000  0.000000  0.0      0.0   148626  \n",
      "1051      0.0  0.000000  0.000000  0.000000  0.0      0.0   152081  \n",
      "1052      0.0  0.000000  3.980769  0.000000  0.0      0.0   164179  \n",
      "1053      0.0  0.000000  3.925926  0.000000  0.0      0.0   166528  \n",
      "1054      0.0  0.000000  4.280000  0.000000  0.0      0.0   168252  \n",
      "\n",
      "[1055 rows x 21 columns]\n"
     ]
    }
   ],
   "source": [
    "# Creating the average movie ratings dataframe.\n",
    "average_movie_ratings_df = pd.DataFrame(list(average_movie_ratings.items()), columns=['movieId', 'average_rating'])\n",
    "\n",
    "# Adding the genre columns to the average movie ratings dataframe.\n",
    "for i in range(len(unique_genres)):\n",
    "    average_movie_ratings_df.insert(i+2, unique_genres[i], 0)\n",
    "\n",
    "# Adding the average rating for the movie to it's genres.\n",
    "for i in range(len(average_movie_ratings_df)):\n",
    "    genres_list = (movies['genres'].loc[movies['movieId'] == average_movie_ratings_df['movieId'].iloc[i]]).str.split('|')\n",
    "    for genres in genres_list:\n",
    "        for genre in genres:\n",
    "            average_movie_ratings_df[genre].iloc[i] = average_movie_ratings_df['average_rating'].iloc[i]\n",
    "            \n",
    "# Removing the average_rating column from the dataframe.\n",
    "average_movie_ratings_df = average_movie_ratings_df.drop(['average_rating'], axis=1)\n",
    "\n",
    "# Sorting the columns alphabetically.\n",
    "average_movie_ratings_df = average_movie_ratings_df.reindex(sorted(average_movie_ratings_df.columns), axis=1)\n",
    "\n",
    "# Printing the average movie ratings dataframe.\n",
    "print('Average Movie Ratings Dataframe:\\n\\n', average_movie_ratings_df)"
   ]
  },
  {
   "cell_type": "code",
   "execution_count": 17,
   "metadata": {},
   "outputs": [
    {
     "name": "stdout",
     "output_type": "stream",
     "text": [
      "Recommended movies for the user:\n",
      "\n",
      "Jumanji (1995)\n",
      "Father of the Bride Part II (1995)\n",
      "Sabrina (1995)\n",
      "GoldenEye (1995)\n",
      "American President, The (1995)\n",
      "Casino (1995)\n",
      "Sense and Sensibility (1995)\n",
      "Ace Ventura: When Nature Calls (1995)\n",
      "Get Shorty (1995)\n",
      "Copycat (1995)\n"
     ]
    }
   ],
   "source": [
    "# Instantiating the nearest neighbors model from sklearn.\n",
    "nearest_neighbors = NearestNeighbors(n_neighbors=10)\n",
    "nearest_neighbors.fit(average_movie_ratings_df)\n",
    "\n",
    "# Getting the closest movies to the user's preference based on average genre rating.\n",
    "nearest_neighbors = nearest_neighbors.kneighbors(user_df)\n",
    "\n",
    "# Getting the indices of the closest movies to the user's preference based on average genre rating.\n",
    "nearest_neighbors_indices = [item for sublist in nearest_neighbors[1] for item in sublist]\n",
    "\n",
    "# Getting the recommended movie Ids. \n",
    "recommended_movie_ids = []\n",
    "for nearest_neighbor_index in nearest_neighbors_indices:\n",
    "    recommended_movie_ids.append(average_movie_ratings_df['movieId'].iloc[nearest_neighbor_index])\n",
    "\n",
    "# Getting the recommended movie titles.\n",
    "recommended_movie_titles = []\n",
    "for recommended_movie_id in recommended_movie_ids:\n",
    "    recommended_movie_title_list = (movies['title'].loc[movies['movieId'] == recommended_movie_id])\n",
    "    for recommended_movie_title in recommended_movie_title_list:\n",
    "        recommended_movie_titles.append(recommended_movie_title)\n",
    "\n",
    "# Printing the recommended movie titles for the user.\n",
    "print('Recommended movies for the user:\\n')\n",
    "for recommended_movie_title in recommended_movie_titles:\n",
    "    print(recommended_movie_title)"
   ]
  },
  {
   "cell_type": "markdown",
   "metadata": {},
   "source": [
    "This model first checks the movies which the user has left a rating for, then gets all the genres the user has left a rating for and calculates the average rating for all the genres. Thus, from this we can identify the genres the user likes the most and which ones he doesn't. Now, we create a movie dataframe, where we select the movies which have more than 20 reviews and then calculate the average rating for the movie across all the reviews. Now we compare the two dataframe using Sklearn's nearest neighbor technique and get the movies closest to the user dataframe as the recommended movies. Thus, the recommended movies are the movies which are the most similar to the ones the user likes."
   ]
  }
 ],
 "metadata": {
  "kernelspec": {
   "display_name": "Python 3",
   "language": "python",
   "name": "python3"
  },
  "language_info": {
   "codemirror_mode": {
    "name": "ipython",
    "version": 3
   },
   "file_extension": ".py",
   "mimetype": "text/x-python",
   "name": "python",
   "nbconvert_exporter": "python",
   "pygments_lexer": "ipython3",
   "version": "3.6.8"
  }
 },
 "nbformat": 4,
 "nbformat_minor": 4
}
