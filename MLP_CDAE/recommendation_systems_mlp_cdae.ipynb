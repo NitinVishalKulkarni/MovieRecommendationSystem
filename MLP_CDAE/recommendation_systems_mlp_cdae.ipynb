{
 "cells": [
  {
   "cell_type": "code",
   "execution_count": 1,
   "metadata": {},
   "outputs": [],
   "source": [
    "# Imports\n",
    "from sklearn.model_selection import train_test_split\n",
    "from sklearn.metrics import mean_absolute_error, mean_squared_error\n",
    "from pylab import *\n",
    "import matplotlib.pyplot as plt\n",
    "import tensorflow as tf\n",
    "%matplotlib inline"
   ]
  },
  {
   "cell_type": "markdown",
   "metadata": {},
   "source": [
    "<h3> Structure:</h3>\n",
    "<h4>\n",
    "    1. Data Preprocessing<br><br>\n",
    "    2. Processing helper functions<br><br>\n",
    "    3. MLP<br><br>\n",
    "    4. CDAE<br><br>\n",
    "    5. Compare<br><br>\n",
    "</h4>"
   ]
  },
  {
   "cell_type": "markdown",
   "metadata": {},
   "source": [
    "<h4>What is the data looks like?</h4>\n",
    "It is the ml-100k data. The file <strong>u.data</strong> is what we used. The structure is <strong>UserID</strong>; <strong>MovieID</strong>, <strong>rating(1-5)</strong> and the <strong>timestamp</strong>"
   ]
  },
  {
   "cell_type": "markdown",
   "metadata": {},
   "source": [
    "![images](./images/data.png)"
   ]
  },
  {
   "cell_type": "markdown",
   "metadata": {},
   "source": [
    "<strong>Reference: </strong>\n",
    "1. He, Xiangnan, et al. \"Neural collaborative filtering.\" Proceedings of the 26th international conference on world wide web. 2017.\n",
    "2. Wu, Chao-Yuan, et al. \"Recurrent recommender networks.\" Proceedings of the tenth ACM international conference on web search and data mining. 2017.\n",
    "3. Sedhain, Suvash, et al. \"Autorec: Autoencoders meet collaborative filtering.\" Proceedings of the 24th international conference on World Wide Web. 2015.\n",
    "4. Wu, Yao, et al. \"Collaborative denoising auto-encoders for top-n recommender systems.\" Proceedings of the Ninth ACM International Conference on Web Search and Data Mining. 2016.\n",
    "5. blog https://www.cnblogs.com/RoyalFlush/p/12857987.html\n",
    "6. blog https://blog.csdn.net/qq_35799003/article/details/84780289"
   ]
  },
  {
   "cell_type": "markdown",
   "metadata": {},
   "source": [
    "<strong>Note:</strong> Many parts of the codes directly come from the implementation of the paper. I modified them to work with TF2.3.0 instead of TF1.0 and add comments to each part of it."
   ]
  },
  {
   "cell_type": "markdown",
   "metadata": {},
   "source": [
    "<h3>Data Preprocessing Helper Functions</h3>"
   ]
  },
  {
   "cell_type": "code",
   "execution_count": 2,
   "metadata": {},
   "outputs": [],
   "source": [
    "# Use to get information from the u.data, output N is #user; M is #movie, data is the dataset\n",
    "def load_data(file_dir):  \n",
    "    user_ids_dict, rated_item_ids_dict = {},{} #Set two dictionaries so we can count number under the same key(UserID)\n",
    "    N, M, u_idx, i_idx = 0, 0, 0, 0 \n",
    "    data = []\n",
    "    f = open(file_dir)\n",
    "    for line in f.readlines():\n",
    "        u, i, r, _ = line.split() # Split the data frame.\n",
    "        if int(u) not in user_ids_dict: # If a new user comes in.\n",
    "            user_ids_dict[int(u)]=u_idx # Build a new key for the new user.\n",
    "            u_idx+=1 # Add 1 since we spot a new user. The u_idx will finally reflect the number of users.\n",
    "        if int(i) not in rated_item_ids_dict: # Same procedure but for item.\n",
    "            rated_item_ids_dict[int(i)]=i_idx\n",
    "            i_idx+=1\n",
    "        data.append([user_ids_dict[int(u)],rated_item_ids_dict[int(i)],float(r)]) # Build a list for the user and movie\n",
    "    f.close()\n",
    "    N = u_idx\n",
    "    M = i_idx\n",
    "    return N, M, data, rated_item_ids_dict\n",
    "\n",
    "# Create a matrix to map every user (row index) to every movie(column Index). Value at [A,B] is person A's rating of movie B.\n",
    "def sequence2mat(sequence, N, M):\n",
    "    # input:\n",
    "    # sequence: the list of rating information\n",
    "    # N: row number, i.e. the number of users\n",
    "    # M: column number, i.e. the number of items\n",
    "    # output:\n",
    "    # mat: user-item rating matrix\n",
    "    records_array = np.array(sequence)\n",
    "    mat = np.zeros([N,M]) \n",
    "    # We create a matrix with N rows and M columns. Hence we can see the rating of PersonA on MovieB at poistion [A, B] in the matrix.    \n",
    "    row = records_array[:,0].astype(int) # Send in the row index\n",
    "    col = records_array[:,1].astype(int) # Send in the column index\n",
    "    values = records_array[:,2].astype(np.float32) \n",
    "    mat[row,col]=values # Send in the value.\n",
    "    return mat # We get a matrix (row:userID, column:movieID, the value at any position of the matrix: the corresponding rating)"
   ]
  },
  {
   "cell_type": "markdown",
   "metadata": {},
   "source": [
    "### Data Training Helper Functions"
   ]
  },
  {
   "cell_type": "code",
   "execution_count": 3,
   "metadata": {},
   "outputs": [],
   "source": [
    "# Get the first 10 most likely prediction(what movie a user want to see).\n",
    "# Calculate the correct hit based on this.\n",
    "def get_topn(r_pred, train_mat, n=10):\n",
    "    unrated_items = r_pred * (train_mat==0)\n",
    "    idx = np.argsort(-unrated_items)\n",
    "    return idx[:,:n]\n",
    "\n",
    "# Calculate recall and precision.\n",
    "def recall_precision(topn, test_mat):\n",
    "    n,m = test_mat.shape # Get the shape of test_mat, where n and m are user number and movide number respectively\n",
    "    hits,total_pred,total_true = 0.,0.,0.  # Define 0. to make these numeric values float.\n",
    "    for u in range(n):\n",
    "        hits += len([i for i in topn[u,:] if test_mat[u,i]>0]) # calculate hits. \n",
    "        size_pred = len(topn[u,:])\n",
    "        size_true = np.sum(test_mat[u,:]>0,axis=0)\n",
    "        total_pred += size_pred\n",
    "        total_true += size_true\n",
    "\n",
    "    recall = hits/total_true\n",
    "    precision = hits/total_pred\n",
    "    return recall, precision\n",
    "\n",
    "# Calculate mean absolute error and root mean squared error.\n",
    "def mae_rmse(r_pred, test_mat):\n",
    "    y_pred = r_pred[test_mat>0] \n",
    "    # Use >0 here because we want to ignore 0 values. \n",
    "    # The movies which have never been watched were also marked as 0 so we need to ignore them.\n",
    "    y_true = test_mat[test_mat>0]\n",
    "    mae = mean_absolute_error(y_true, y_pred)\n",
    "    rmse = np.sqrt(mean_squared_error(y_true, y_pred))\n",
    "    return mae, rmse \n",
    "\n",
    "# Call mae_rmse and recall_precision to evaluate the model\n",
    "def evaluation(pred_mat, train_mat, test_mat):\n",
    "    topn = get_topn(pred_mat, train_mat, n=10)\n",
    "    mae, rmse = mae_rmse(pred_mat, test_mat)\n",
    "    recall, precision = recall_precision(topn, test_mat)\n",
    "    return mae, rmse, recall, precision\n",
    "\n",
    "# Calculate hit number.\n",
    "def get_hit(ranklist,rated_item):\n",
    "    result = 0\n",
    "    for item in ranklist:\n",
    "        if item==rated_item:\n",
    "            result = 1 # If the rank list matched then set result to 1 (set to 0 if no match). Output the result. \n",
    "    return result\n",
    "    \n",
    "# NDCG is then the ratio of DCG of recommended order to DCG of ideal order. \n",
    "# This ratio will always be in the range [0,1].\n",
    "# Reference: https://medium.com/swlh/rank-aware-recsys-evaluation-metrics-5191bba16832\n",
    "def get_ndcg(ranklist,rated_item):\n",
    "    result = 0\n",
    "    for i in range(len(ranklist)):\n",
    "        item = ranklist[i]\n",
    "        if item==rated_item:\n",
    "            result = math.log(2)/math.log(i+2)\n",
    "    return result\n",
    "\n",
    "# Reference: https://medium.com/swlh/rank-aware-recsys-evaluation-metrics-5191bba16832\n",
    "# Call get_ndcg to compute the ratio of DCG of recommended order to DCG of ideal order. \n",
    "def hit_ndcg(test_sequence, ranklist):\n",
    "    length = len(test_sequence)\n",
    "    hits,ndcgs=[],[]\n",
    "    for idx in range(length):\n",
    "        user = test_sequence[idx,0].astype(np.int32)\n",
    "        rated_item = test_sequence[idx,1].astype(np.int32)\n",
    "        hr = get_hit(ranklist[user],rated_item)\n",
    "        ndcg = get_ndcg(ranklist[user],rated_item)\n",
    "        hits.append(hr)\n",
    "        ndcgs.append(ndcg)\n",
    "    return hits,ndcgs\n",
    "\n",
    "# Output figure.\n",
    "def figure(values_list, name=''):\n",
    "    fig=plt.figure(name)\n",
    "    x = range(len(values_list))\n",
    "    plot(x, values_list, color='g',linewidth=3)\n",
    "    plt.title(name + ' curve')\n",
    "    plt.xlabel('Iterations')\n",
    "    plt.ylabel(name)\n",
    "    show()"
   ]
  },
  {
   "cell_type": "code",
   "execution_count": 4,
   "metadata": {},
   "outputs": [],
   "source": [
    "# The model for MLP\n",
    "class mlp():\n",
    "    def __init__(self,               \n",
    "                 users_num = None, # User number\n",
    "                 items_num = None, # Movie number\n",
    "                 embedding_size = 16, # embedding_size\n",
    "                 hidden_sizes = [16,8], # hidden units\n",
    "                 learning_rate = 1e-3, # learning rate\n",
    "                 lamda_regularizer=1e-3, # regularization\n",
    "                 batch_size = 256 # batch size \n",
    "                ):\n",
    "        self.users_num = users_num\n",
    "        self.items_num = items_num\n",
    "        self.embedding_size = embedding_size\n",
    "        self.hidden_sizes = hidden_sizes\n",
    "        self.learning_rate = learning_rate\n",
    "        self.lamda_regularizer = lamda_regularizer\n",
    "        self.batch_size = batch_size\n",
    "\n",
    "        # loss records\n",
    "        self.train_loss_records = []  \n",
    "        self.build_graph()   \n",
    "\n",
    "    # This function is the main part of defining a Deep Neural Network. All the functions below this part is called\n",
    "    # inside this main function.\n",
    "    # Procedure:\n",
    "    # 1. Define place holder (redundant for TF2.0)\n",
    "    # 2. Set weights\n",
    "    # 3. Send in data and feed forward. Calculate the loss\n",
    "    # 4. Set optimizer (to back propagation and update weights)\n",
    "    # 5. Make predictions\n",
    "    # 6. Finally start the session\n",
    "    \n",
    "    def build_graph(self):\n",
    "        self.graph = tf.Graph()\n",
    "        with self.graph.as_default():       \n",
    "            # Define place holder. The is redudant for TF2.0 tho but all the learning material use the older version\n",
    "            # so I didn't change this part. \n",
    "            self.users_inputs = tf.compat.v1.placeholder(tf.int32, shape = [None], name='users_inputs')\n",
    "            self.items_inputs = tf.compat.v1.placeholder(tf.int32, shape = [None], name='items_inputs')\n",
    "            self.train_labels = tf.compat.v1.placeholder(tf.float32, shape = [None], name='train_labels') \n",
    "            \n",
    "            # Set weights\n",
    "            self.weights = self._initialize_weights()\n",
    "            \n",
    "            # Training(feed forward)\n",
    "            self.y_ = self.inference(users_inputs=self.users_inputs, items_inputs=self.items_inputs)\n",
    "            self.loss_train = self.loss_function(true_labels=self.train_labels, \n",
    "                                                 predicted_labels=tf.reshape(self.y_,shape=[-1]),\n",
    "                                                 lamda_regularizer=self.lamda_regularizer)\n",
    "            \n",
    "            # Set Adam as optimizer (back propagation)\n",
    "            self.train_op = tf.compat.v1.train.AdamOptimizer(learning_rate=self.learning_rate,beta1=0.9, beta2=0.999, epsilon=1e-08).minimize(self.loss_train) \n",
    "\n",
    "            # Make Predictions \n",
    "            self.predictions = self.inference(users_inputs=self.users_inputs, items_inputs=self.items_inputs)\n",
    "        \n",
    "            # Initiliazation and run\n",
    "            init = tf.compat.v1.global_variables_initializer()\n",
    "            self.sess = self._init_session()\n",
    "            self.sess.run(init)\n",
    "    \n",
    "    \n",
    "    def _init_session(self):\n",
    "        # Use TF GPU\n",
    "        config = tf.compat.v1.ConfigProto()\n",
    "        config.gpu_options.allow_growth = True\n",
    "        return tf.compat.v1.Session(config=config)\n",
    "    \n",
    "    \n",
    "    def _initialize_weights(self):\n",
    "        all_weights = dict()\n",
    "\n",
    "        # We use an embedding layer here. We do this because the user vector (The row in the matrix) and the movie vectors\n",
    "        # are too sparse(Every user only see several movies and make the vector have 0 in most places) \n",
    "        # The dimension space is so huge that we need to map the original vector to a smaller space with most\n",
    "        # of the information stored. This will help the training.\n",
    "        all_weights['embedding_users'] = tf.Variable(tf.random.normal([self.users_num, self.embedding_size],0, 0.1),name='embedding_users')\n",
    "        all_weights['embedding_items'] = tf.Variable(tf.random.normal([self.items_num, self.embedding_size],\n",
    "                                                                      0, 0.1),name='embedding_items') \n",
    "        \n",
    "        # hidden layer (get two layers with bias)\n",
    "        # weight_0 & bias_0 for layer1.\n",
    "        # weight_1 & bias_1 for layer2.\n",
    "        all_weights['weight_0'] = tf.Variable(tf.random.normal([self.embedding_size * 2,self.hidden_sizes[0]], 0.0, 0.1),name='weight_0')\n",
    "        all_weights['bias_0'] = tf.Variable(tf.zeros([self.hidden_sizes[0]]), name='bias_0')\n",
    "        all_weights['weight_1'] = tf.Variable(tf.random.normal([self.hidden_sizes[0],self.hidden_sizes[1]], 0.0, 0.1), name='weight_1')\n",
    "        all_weights['bias_1'] = tf.Variable(tf.zeros([self.hidden_sizes[1]]), name='bias_1')\n",
    "        \n",
    "        # output layer\n",
    "        all_weights['weight_n'] = tf.Variable(tf.random.normal([self.hidden_sizes[-1], 1], 0, 0.1), name='weight_n')\n",
    "        all_weights['bias_n'] = tf.Variable(tf.zeros([1]), name='bias_n')\n",
    "        return all_weights\n",
    "        \n",
    "    \n",
    "    def train(self, data_sequence):\n",
    "        train_size = len(data_sequence) # The total feed in data for one time.\n",
    "        batch_size = self.batch_size # size of a single batch\n",
    "        total_batch = math.ceil(train_size/batch_size) # how many batches in a epoch\n",
    "\n",
    "        for batch in range(total_batch):\n",
    "            start = (batch * batch_size)% train_size \n",
    "            # Where to start in the data_sequence. It is cumulative so we need batch * batch_size(how many data\n",
    "            # has already been processed. (batch * batch_size)% train_size: how many processed data exceed the last whole batch\n",
    "            # and start from that position.\n",
    "            end = min(start+batch_size, train_size) # take care of the edge cases\n",
    "            data_array = np.array(data_sequence[start:end])\n",
    "            X = data_array[:,:2] # features\n",
    "            y = data_array[:,-1] # labels\n",
    "            feed_dict = {self.users_inputs: X[:,0], self.items_inputs: X[:,1], self.train_labels:y} # Build a dic for the input\n",
    "            loss, opt = self.sess.run([self.loss_train,self.train_op], feed_dict=feed_dict) # Get loss\n",
    "            self.train_loss_records.append(loss)\n",
    "        return self.train_loss_records\n",
    "\n",
    "        \n",
    "    # Feed forward.\n",
    "    def inference(self, users_inputs, items_inputs):\n",
    "        # Use embedding layers to deal with huge sparse user and item vectors.\n",
    "        # We can notice that most parts of the vector of a user(a row in the user-item rating matrix) are zero\n",
    "        # hence the data is very sparse. We need to map such high dimentional data (1*1682) into a smaller space.\n",
    "        # This is why we need embedding.\n",
    "        embed_users = tf.reshape(tf.nn.embedding_lookup(self.weights['embedding_users'], users_inputs),\n",
    "                                 shape=[-1, self.embedding_size])\n",
    "        embed_items = tf.reshape(tf.nn.embedding_lookup(self.weights['embedding_items'], items_inputs),\n",
    "                                 shape=[-1, self.embedding_size])\n",
    "        \n",
    "        # Two layers of MLP, activation function ReLu (sigmoid also works)\n",
    "        layer0 = tf.nn.relu(tf.matmul(tf.concat([embed_items,embed_users],1), self.weights['weight_0']) + self.weights['bias_0'])\n",
    "        layer1 = tf.nn.relu(tf.matmul(layer0, self.weights['weight_1']) + self.weights['bias_1'])       \n",
    "        y_ = tf.matmul(layer1,self.weights['weight_n']) + self.weights['bias_n']\n",
    "        return y_         \n",
    "        \n",
    "        \n",
    "    # Define loss function, type: MSE\n",
    "    def loss_function(self, true_labels, predicted_labels,lamda_regularizer=1e-3):   \n",
    "        loss = tf.compat.v1.losses.mean_squared_error(true_labels, predicted_labels)\n",
    "        cost = loss\n",
    "        if lamda_regularizer>0:\n",
    "            regularizer_1 = tf.keras.regularizers.l2(lamda_regularizer)\n",
    "            regularization = regularizer_1( # Add regularization term to each part of the weights.\n",
    "                self.weights['embedding_users']) + regularizer_1(\n",
    "                self.weights['embedding_items'])+ regularizer_1(\n",
    "                self.weights['weight_0']) + regularizer_1(\n",
    "                self.weights['weight_1']) + regularizer_1(\n",
    "                self.weights['weight_n'])\n",
    "            # We add regularizations to the weights. Thus we reduces the impact of the weights and reduce overfitting.\n",
    "            # The model is very simply here so regularization is quite redundant.\n",
    "            # But still keep the code to show the process\n",
    "            cost = loss + regularization\n",
    "\n",
    "        return cost   \n",
    "    \n",
    "    # Predict the ratings.\n",
    "    def predict_ratings(self, data_sequence):\n",
    "        pred_mat = np.zeros([self.users_num, self.items_num]) # first define the size of predition matrix\n",
    "        instances_size = len(data_sequence) \n",
    "        data_array = np.array(data_sequence)\n",
    "        items_id = np.array([i for i in range(self.items_num)])\n",
    "        for u in range(self.users_num):\n",
    "            users_id = u*np.ones_like(items_id)\n",
    "            feed_dict = {self.users_inputs:users_id, \n",
    "                         self.items_inputs:items_id}  \n",
    "            out = self.sess.run([self.predictions], feed_dict=feed_dict)\n",
    "            pred_mat[u] = np.reshape(out,(-1))\n",
    "\n",
    "        return pred_mat"
   ]
  },
  {
   "cell_type": "code",
   "execution_count": 5,
   "metadata": {},
   "outputs": [],
   "source": [
    "# The model for CDAE (Collaborative Denoising Auto-Encoders)\n",
    "class cdae():\n",
    "    def __init__(self,\n",
    "                 users_num = None,         # User Number\n",
    "                 items_num = None,         # Item Number\n",
    "                 hidden_size = 500,        # Hidden units\n",
    "                 batch_size = 256,         # batch size\n",
    "                 learning_rate = 1e-3,     # learning rate\n",
    "                 lamda_regularizer = 1e-3, # regulization\n",
    "                 dropout_rate = 0.5,       # dropout rate\n",
    "                 noise_level = 1e-3\n",
    "                ):\n",
    "        self.users_num = users_num\n",
    "        self.items_num = items_num\n",
    "        self.hidden_size = hidden_size\n",
    "        self.batch_size = batch_size\n",
    "        self.learning_rate = learning_rate\n",
    "        self.lamda_regularizer = lamda_regularizer\n",
    "        self.dropout_rate = dropout_rate\n",
    "        self.noise_level = noise_level\n",
    "        \n",
    "        self.train_loss_records = []  \n",
    "        self.build_graph()   \n",
    "\n",
    "    # The sekelton of the Neural Network. Call all the helper functions below.\n",
    "    def build_graph(self):\n",
    "        self.graph = tf.Graph()\n",
    "        with self.graph.as_default():      \n",
    "            # Input data. Define place holder. (This is redundant with TF2/Keras)\n",
    "            self.rating_inputs = tf.compat.v1.placeholder(tf.float32, shape = [None, self.items_num], name='rating_inputs')\n",
    "            self.user_inputs = tf.compat.v1.placeholder(tf.int32, shape = [None, 1], name='user_inputs')\n",
    "            self.dropout_prob = tf.compat.v1.placeholder(tf.float32, name = \"dropout_prob\")\n",
    "\n",
    "            # Set weights. Rememeber we have symmetric layers in auto-encoder.\n",
    "            self.weights = self._initialize_weights()\n",
    "            \n",
    "            # Feed forward and back propagation. Define the loss and optimizer(Adam)\n",
    "            self.y_ = self.inference(rating_inputs=self.rating_inputs, user_inputs=self.user_inputs)\n",
    "            self.loss_train = self.loss_function(true_r=self.corrupted_inputs, predicted_r=self.y_, lamda_regularizer=self.lamda_regularizer)\n",
    "            self.train_op = tf.compat.v1.train.AdamOptimizer(learning_rate=self.learning_rate, beta1=0.9, beta2=0.999, epsilon=1e-08).minimize(self.loss_train) \n",
    "        \n",
    "            # Make predictions\n",
    "            self.predictions = self.inference(rating_inputs=self.rating_inputs, user_inputs=self.user_inputs)\n",
    "            \n",
    "            # Run the Session\n",
    "            init = tf.compat.v1.global_variables_initializer()\n",
    "            self.sess = self._init_session()\n",
    "            self.sess.run(init)\n",
    "    \n",
    "    \n",
    "    def _init_session(self):\n",
    "        # Set up the GPU configuration.\n",
    "        config = tf.compat.v1.ConfigProto()\n",
    "        config.gpu_options.allow_growth = True\n",
    "        return tf.compat.v1.Session(config=config)\n",
    "    \n",
    "    # Warning!! Core part of CDAE\n",
    "    def _initialize_weights(self):\n",
    "        all_weights = dict()\n",
    "        # W1 and b1 used for encoder (hidden layer1)\n",
    "        all_weights['W1'] = tf.Variable(tf.random.normal([self.items_num, self.hidden_size], 0.0, 0.1), name='W1')\n",
    "        all_weights['b1'] = tf.Variable(tf.zeros([self.hidden_size]), name='b1')\n",
    "        # W2 and b2 used for decoder (hidden layer2)\n",
    "        all_weights['W2'] = tf.Variable(tf.random.normal([self.hidden_size, self.items_num], 0.0, 0.1), name='W2')\n",
    "        all_weights['b2'] = tf.Variable(tf.zeros([self.items_num]), name='b2')\n",
    "        # Embedding.\n",
    "        all_weights['V'] = tf.Variable(tf.zeros([self.users_num, self.hidden_size]), name='V')\n",
    "        return all_weights\n",
    "    \n",
    "    # Training\n",
    "    def train(self, data_mat):\n",
    "        instances_size = len(data_mat) # The total feed in data for one time.\n",
    "        batch_size = self.batch_size # size of a single batch\n",
    "        total_batch = math.ceil(instances_size/batch_size)# how many batches in a epoch\n",
    "        # Where to start in the data_sequence. It is cumulative so we need batch * batch_size(how many data\n",
    "        # has already been processed. (batch * batch_size)% train_size: how many processed data exceed the last whole batch\n",
    "        # and start from that position.\n",
    "        for batch in range(total_batch):\n",
    "            start = (batch*batch_size)% instances_size\n",
    "            end = min(start+batch_size, instances_size) # edge cases\n",
    "            # Define feed_dic[user, rating, dropouts_prob]\n",
    "            feed_dict = {self.user_inputs:np.reshape(data_mat[start:end,0],(-1,1)), \n",
    "                         self.rating_inputs:data_mat[start:end,1:], \n",
    "                         self.dropout_prob:self.dropout_rate}  \n",
    "            # Calculate the loss. \n",
    "            loss, opt = self.sess.run([self.loss_train, self.train_op], feed_dict=feed_dict)# Send in the feed_dic\n",
    "            self.train_loss_records.append(loss)\n",
    "            \n",
    "        return self.train_loss_records\n",
    "\n",
    "        \n",
    "    # Feedforward\n",
    "    def inference(self, rating_inputs, user_inputs):\n",
    "        # We add some noise in the input. And use drop-out(p=0.5) here.\n",
    "        # noise: (noise_level = 1e-3) * random normal\n",
    "        # noise + rating = input (combine the noise and the input together)\n",
    "        # Thus we can reduce overfitting. \n",
    "        inputs_noisy = rating_inputs + self.noise_level * tf.random.normal(tf.shape(rating_inputs))\n",
    "        self.corrupted_inputs = tf.nn.dropout(inputs_noisy, rate=self.dropout_prob)\n",
    "        # Add embedding here to map the high dimensional data into lower dimension with their features preserved.\n",
    "        Vu = tf.reshape(tf.nn.embedding_lookup(self.weights['V'], user_inputs),(-1, self.hidden_size))\n",
    "        # Encoder - hidden layer1\n",
    "        encoder = tf.nn.sigmoid(tf.matmul(self.corrupted_inputs, self.weights['W1']) + Vu + self.weights['b1'])\n",
    "        # Decoder - hidden layer2\n",
    "        decoder = tf.identity(tf.matmul(encoder, self.weights['W2']) + self.weights['b2'])\n",
    "        return decoder         \n",
    "        \n",
    "        \n",
    "    def loss_function(self, true_r, predicted_r, lamda_regularizer=1e-3, loss_type='square'):\n",
    "        idx = tf.where(true_r>0) # Where the values preserved. (We have many zeros which means nothing)\n",
    "        true_y = tf.gather_nd(true_r, idx) # get true rating\n",
    "        predicted_y = tf.gather_nd(predicted_r, idx) # predicted rating.\n",
    "       \n",
    "        if loss_type== 'square': # Can pick MSE as loss function\n",
    "            loss = tf.compat.v1.losses.mean_squared_error(true_y, predicted_y)\n",
    "        elif loss_type== 'cross_entropy': # or cross entropy\n",
    "            loss = tf.nn.sigmoid_cross_entropy_with_logits(labels=true_y, logits=predicted_y)\n",
    "        \n",
    "        # Add regularizer to each part of the weight to reduce their impact and hence reduce the overfitting.\n",
    "        # This is a standard block for dealing with regularization.\n",
    "        regularizer = tf.keras.regularizers.l2(lamda_regularizer)\n",
    "        regularization = regularizer(self.weights['V']) + regularizer(self.weights['W1']) + regularizer(\n",
    "            self.weights['W2']) + regularizer(self.weights['b1']) + regularizer(self.weights['b2'])\n",
    "        cost = loss + regularization\n",
    "        return cost \n",
    "    \n",
    "    # Do the predictions. It is the same with what happened in MLP\n",
    "    def predict_ratings(self, data_mat):\n",
    "        pred_mat = np.zeros([self.users_num, self.items_num])\n",
    "        \n",
    "        instances_size = len(data_mat)\n",
    "        batch_size = self.batch_size\n",
    "        total_batch = math.ceil(instances_size/batch_size)\n",
    "        for batch in range(total_batch):\n",
    "            start = (batch*batch_size)% instances_size\n",
    "            end = min(start+batch_size, instances_size)\n",
    "            feed_dict = {self.user_inputs:np.reshape(data_mat[start:end,0],(-1,1)), \n",
    "                         self.rating_inputs:data_mat[start:end,1:],\n",
    "                         self.dropout_prob:0.}  \n",
    "            out = self.sess.run([self.predictions], feed_dict=feed_dict)\n",
    "            pred_mat[start:end,:] = np.reshape(out,(-1,self.items_num))\n",
    "\n",
    "        return pred_mat"
   ]
  },
  {
   "cell_type": "markdown",
   "metadata": {},
   "source": [
    "### Load the dataset"
   ]
  },
  {
   "cell_type": "code",
   "execution_count": 6,
   "metadata": {},
   "outputs": [
    {
     "name": "stdout",
     "output_type": "stream",
     "text": [
      " data length: 100000 \n",
      " user number: 943 \n",
      " movie number: 1682\n"
     ]
    }
   ],
   "source": [
    "data_dir = 'datasets/ml-100k/u.data' # user id + item id + rating + timestamp\n",
    "N, M, data_list, _ = load_data(file_dir=data_dir) # get the user number, movie number and the data(list)\n",
    "print(' data length: %d \\n user number: %d \\n movie number: %d' %(len(data_list),N,M))"
   ]
  },
  {
   "cell_type": "code",
   "execution_count": 7,
   "metadata": {},
   "outputs": [],
   "source": [
    "# print(data_list) # [[list1],[list2],[list3]...[listN]] and list1 = [userID, movieID, rating]"
   ]
  },
  {
   "cell_type": "code",
   "execution_count": 8,
   "metadata": {},
   "outputs": [
    {
     "name": "stdout",
     "output_type": "stream",
     "text": [
      "<class 'list'>\n"
     ]
    }
   ],
   "source": [
    "print(type(data_list)) # Remember it is a list."
   ]
  },
  {
   "cell_type": "markdown",
   "metadata": {},
   "source": [
    "### Split the dataset"
   ]
  },
  {
   "cell_type": "code",
   "execution_count": 9,
   "metadata": {},
   "outputs": [
    {
     "name": "stdout",
     "output_type": "stream",
     "text": [
      "train length: 80000 \n",
      " test length: 20000\n"
     ]
    }
   ],
   "source": [
    "# Use the sklearn train_test_split method\n",
    "train_list, test_list = train_test_split(data_list,test_size=0.2)\n",
    "print ('train length: %d \\n test length: %d' %(len(train_list),len(test_list)))"
   ]
  },
  {
   "cell_type": "markdown",
   "metadata": {},
   "source": [
    "### Transfer list into matrix"
   ]
  },
  {
   "cell_type": "code",
   "execution_count": 10,
   "metadata": {},
   "outputs": [],
   "source": [
    "# We transfer the list into a user-movie matrix. See detials in the helper function block.\n",
    "train_mat = sequence2mat(sequence = train_list, N = N, M = M) \n",
    "test_mat = sequence2mat(sequence = test_list, N = N, M = M)"
   ]
  },
  {
   "cell_type": "code",
   "execution_count": 11,
   "metadata": {},
   "outputs": [
    {
     "name": "stdout",
     "output_type": "stream",
     "text": [
      "[0. 0. 0. ... 0. 0. 0.]\n"
     ]
    }
   ],
   "source": [
    "print(train_mat[0,:]) # See the first row, which means the first user's idea about the movies."
   ]
  },
  {
   "cell_type": "code",
   "execution_count": 12,
   "metadata": {},
   "outputs": [
    {
     "name": "stdout",
     "output_type": "stream",
     "text": [
      "(943, 1682)\n"
     ]
    }
   ],
   "source": [
    "print(np.shape(train_mat)) # 943 Users and 1682 movies."
   ]
  },
  {
   "cell_type": "markdown",
   "metadata": {},
   "source": [
    "### Parameters Setting"
   ]
  },
  {
   "cell_type": "code",
   "execution_count": 13,
   "metadata": {},
   "outputs": [],
   "source": [
    "users_num = N            # User number\n",
    "items_num = M            # Movide number\n",
    "hidden_size = 500        # Number of hidden units.\n",
    "batch_size = 256         # batch size\n",
    "lamda_regularizer = 1e-3 # regularization\n",
    "learning_rate = 1e-3     # Learning rate\n",
    "epoches  = 100\n",
    "\n",
    "# Best embedding size is return 2 * int(np.floor(np.power(n, 0.25))) \n",
    "embedding_size = 10"
   ]
  },
  {
   "cell_type": "markdown",
   "metadata": {},
   "source": [
    "### 1. MLP"
   ]
  },
  {
   "cell_type": "code",
   "execution_count": 14,
   "metadata": {},
   "outputs": [
    {
     "name": "stdout",
     "output_type": "stream",
     "text": [
      "epoch:0  loss=13.3399; \n",
      " MAE=3.4917; RMSE=3.6679; Recall=0.0128; Precision=0.0271; Hit=0.0128; NDCG=0.0081\n",
      "epoch:10  loss=1.3941; \n",
      " MAE=0.8133; RMSE=1.0184; Recall=0.0638; Precision=0.1352; Hit=0.0638; NDCG=0.0294\n",
      "epoch:20  loss=1.0914; \n",
      " MAE=0.7605; RMSE=0.9578; Recall=0.0457; Precision=0.0970; Hit=0.0457; NDCG=0.0216\n",
      "epoch:30  loss=1.0356; \n",
      " MAE=0.7504; RMSE=0.9460; Recall=0.0401; Precision=0.0849; Hit=0.0401; NDCG=0.0180\n",
      "epoch:40  loss=0.9415; \n",
      " MAE=0.7461; RMSE=0.9425; Recall=0.0374; Precision=0.0793; Hit=0.0374; NDCG=0.0163\n",
      "epoch:50  loss=0.9301; \n",
      " MAE=0.7458; RMSE=0.9411; Recall=0.0362; Precision=0.0769; Hit=0.0362; NDCG=0.0159\n",
      "epoch:60  loss=0.9039; \n",
      " MAE=0.7463; RMSE=0.9405; Recall=0.0336; Precision=0.0712; Hit=0.0336; NDCG=0.0149\n",
      "epoch:70  loss=0.8359; \n",
      " MAE=0.7444; RMSE=0.9403; Recall=0.0335; Precision=0.0709; Hit=0.0335; NDCG=0.0149\n",
      "epoch:80  loss=1.0408; \n",
      " MAE=0.7447; RMSE=0.9400; Recall=0.0313; Precision=0.0664; Hit=0.0313; NDCG=0.0142\n",
      "epoch:90  loss=0.8266; \n",
      " MAE=0.7463; RMSE=0.9402; Recall=0.0291; Precision=0.0618; Hit=0.0291; NDCG=0.0132\n"
     ]
    },
    {
     "data": {
      "image/png": "[encoded data removed]",
      "text/plain": [
       "<Figure size 432x288 with 1 Axes>"
      ]
     },
     "metadata": {
      "needs_background": "light"
     },
     "output_type": "display_data"
    },
    {
     "data": {
      "image/png": "[encoded data removed]",
      "text/plain": [
       "<Figure size 432x288 with 1 Axes>"
      ]
     },
     "metadata": {
      "needs_background": "light"
     },
     "output_type": "display_data"
    },
    {
     "data": {
      "image/png": "[encoded data removed]",
      "text/plain": [
       "<Figure size 432x288 with 1 Axes>"
      ]
     },
     "metadata": {
      "needs_background": "light"
     },
     "output_type": "display_data"
    }
   ],
   "source": [
    "learning_rate = 1e-4  \n",
    "hidden_sizes = [embedding_size,int(embedding_size/2)]\n",
    "\n",
    "model = mlp(users_num = users_num,\n",
    "            items_num = items_num,\n",
    "            embedding_size = embedding_size,\n",
    "            hidden_sizes = hidden_sizes,\n",
    "            learning_rate = learning_rate,\n",
    "            lamda_regularizer = lamda_regularizer,\n",
    "            batch_size = batch_size)\n",
    "\n",
    "records_list = []\n",
    "input_data = train_list\n",
    "for epoch in range(epoches):\n",
    "    data_mat = np.random.permutation(input_data)# Randomly shuffer the input data\n",
    "    loss = model.train(data_sequence=data_mat) # Send in model and train.\n",
    "    pred_mat = model.predict_ratings(data_sequence=test_list) # Make predictions based on trained model\n",
    "    mae, rmse, recall, precision = evaluation(pred_mat, train_mat, test_mat) # Evaluation\n",
    "    records_list.append([loss[-1], mae, rmse, recall, precision])\n",
    "    if epoch % 10==0: # Print progress for every 10 epoch\n",
    "        topn = get_topn(pred_mat, train_mat, n=10) # Evalute the hitting rate by the 10 most likely movie pick.\n",
    "        hit_list, ndcg_list = hit_ndcg(test_sequence=np.array(test_list), ranklist=topn)\n",
    "        hit, ndcg = np.array(hit_list).mean(),np.array(ndcg_list).mean()\n",
    "        print('epoch:%d  loss=%.4f; \\n MAE=%.4f; RMSE=%.4f; Recall=%.4f; Precision=%.4f; Hit=%.4f; NDCG=%.4f'\n",
    "              %(epoch, loss[-1], mae, rmse, recall, precision, hit, ndcg))\n",
    "\n",
    "figure(values_list=np.array(records_list)[:,0],name='loss')\n",
    "figure(values_list=np.array(records_list)[:,2],name='RMSE')\n",
    "figure(values_list=np.array(records_list)[:,-1],name='Precision')"
   ]
  },
  {
   "cell_type": "code",
   "execution_count": 15,
   "metadata": {
    "scrolled": true
   },
   "outputs": [],
   "source": [
    "# print(pred_mat[0,:]) # Let's see what is a prediction row looks like. (The predicted ratings of a person)"
   ]
  },
  {
   "cell_type": "markdown",
   "metadata": {},
   "source": [
    "### Show the list of recommended movies."
   ]
  },
  {
   "cell_type": "code",
   "execution_count": 16,
   "metadata": {},
   "outputs": [
    {
     "name": "stdout",
     "output_type": "stream",
     "text": [
      "[541, 1255, 297, 277, 612, 36, 239, 174, 200, 180]\n"
     ]
    }
   ],
   "source": [
    "# Given a certain person, let's say the first one in the list. Provide him the recommandation\n",
    "# It is the highest 10 ratings predicted. \n",
    "# The numbers in the list are the indices of the movie in the matrix (not exact movie ID)\n",
    "# I didn't convert it because the dataset doesn't provide exact movie names anyway.\n",
    "res = sorted(range(len(pred_mat[0,:])), key = lambda sub: pred_mat[0,:][sub])[-10:] \n",
    "print(res)"
   ]
  },
  {
   "cell_type": "markdown",
   "metadata": {},
   "source": [
    "<h4>And the corresponding rating.</h4>"
   ]
  },
  {
   "cell_type": "code",
   "execution_count": 18,
   "metadata": {},
   "outputs": [
    {
     "name": "stdout",
     "output_type": "stream",
     "text": [
      "[4.523581027984619, 4.503505229949951, 4.484161853790283, 4.471639156341553, 4.418665885925293, 4.417996883392334, 4.416147708892822, 4.4141764640808105, 4.403722286224365, 4.374261379241943]\n"
     ]
    }
   ],
   "source": [
    "# Take a look at what the ratings exactly are.\n",
    "import heapq\n",
    "movie_rating = heapq.nlargest(10, pred_mat[0,:])        \n",
    "print(movie_rating)"
   ]
  },
  {
   "cell_type": "markdown",
   "metadata": {},
   "source": [
    "<h4>I didn't give the eact movie names because the data set only has the ID of the movies. The names can be found in other files with the corresponding unique ID.</h4>"
   ]
  },
  {
   "cell_type": "markdown",
   "metadata": {},
   "source": [
    "![images](./images/data.png)"
   ]
  },
  {
   "cell_type": "markdown",
   "metadata": {},
   "source": [
    "### 2. CDAE\n",
    "- <strong>User based / Collaborative</strong>"
   ]
  },
  {
   "cell_type": "code",
   "execution_count": 19,
   "metadata": {
    "scrolled": false
   },
   "outputs": [
    {
     "name": "stdout",
     "output_type": "stream",
     "text": [
      "epoch:0  loss=15.1984; \n",
      " MAE=3.0930; RMSE=3.2898; Recall=0.0543; Precision=0.1152\n",
      "epoch:10  loss=4.2413; \n",
      " MAE=2.1581; RMSE=2.4497; Recall=0.0897; Precision=0.1902\n",
      "epoch:20  loss=4.1369; \n",
      " MAE=2.1287; RMSE=2.4241; Recall=0.0921; Precision=0.1954\n",
      "epoch:30  loss=4.1159; \n",
      " MAE=2.1463; RMSE=2.4370; Recall=0.0887; Precision=0.1881\n",
      "epoch:40  loss=4.2519; \n",
      " MAE=2.1614; RMSE=2.4508; Recall=0.0893; Precision=0.1894\n",
      "epoch:50  loss=4.0014; \n",
      " MAE=2.1481; RMSE=2.4404; Recall=0.0896; Precision=0.1900\n",
      "epoch:60  loss=4.5135; \n",
      " MAE=2.1353; RMSE=2.4309; Recall=0.0899; Precision=0.1907\n",
      "epoch:70  loss=3.8657; \n",
      " MAE=2.1487; RMSE=2.4450; Recall=0.0868; Precision=0.1841\n",
      "epoch:80  loss=4.2349; \n",
      " MAE=2.1399; RMSE=2.4357; Recall=0.0866; Precision=0.1837\n",
      "epoch:90  loss=4.0248; \n",
      " MAE=2.1514; RMSE=2.4461; Recall=0.0871; Precision=0.1847\n"
     ]
    },
    {
     "data": {
      "image/png": "[encoded data removed]",
      "text/plain": [
       "<Figure size 432x288 with 1 Axes>"
      ]
     },
     "metadata": {
      "needs_background": "light"
     },
     "output_type": "display_data"
    },
    {
     "data": {
      "image/png": "[encoded data removed]",
      "text/plain": [
       "<Figure size 432x288 with 1 Axes>"
      ]
     },
     "metadata": {
      "needs_background": "light"
     },
     "output_type": "display_data"
    },
    {
     "data": {
      "image/png": "[encoded data removed]",
      "text/plain": [
       "<Figure size 432x288 with 1 Axes>"
      ]
     },
     "metadata": {
      "needs_background": "light"
     },
     "output_type": "display_data"
    }
   ],
   "source": [
    "# All the same procedure with the MLP. The only difference is the model structure.\n",
    "hidden_size = 50        \n",
    "lamda_regularizer = 1e-2 \n",
    "learning_rate = 0.01 \n",
    "dropout_rate = 0.5         \n",
    "model = cdae(users_num = users_num,\n",
    "             items_num = items_num,\n",
    "             hidden_size = hidden_size,\n",
    "             batch_size = batch_size,\n",
    "             learning_rate = learning_rate,\n",
    "             lamda_regularizer = lamda_regularizer,\n",
    "             dropout_rate = dropout_rate)\n",
    "\n",
    "user_array = np.array([u for u in range(users_num)])\n",
    "input_data = np.c_[user_array, train_mat]\n",
    "records_list = []\n",
    "for epoch in range(epoches):\n",
    "    data_mat = np.random.permutation(input_data) \n",
    "    loss = model.train(data_mat=data_mat)\n",
    "    pred_mat = model.predict_ratings(data_mat=np.c_[user_array, train_mat])\n",
    "    mae, rmse, recall, precision = evaluation(pred_mat, train_mat, test_mat)\n",
    "    records_list.append([loss[-1],mae, rmse, recall, precision])\n",
    "    if epoch % 10==0:\n",
    "        print('epoch:%d  loss=%.4f; \\n MAE=%.4f; RMSE=%.4f; Recall=%.4f; Precision=%.4f'\n",
    "              %(epoch, loss[-1], mae, rmse, recall, precision))\n",
    "\n",
    "figure(values_list=np.array(records_list)[:,0],name='loss')\n",
    "figure(values_list=np.array(records_list)[:,2],name='RMSE')\n",
    "figure(values_list=np.array(records_list)[:,-1],name='Precision')"
   ]
  },
  {
   "cell_type": "markdown",
   "metadata": {
    "collapsed": true
   },
   "source": [
    "- <strong>Item(movie) based.</strong>"
   ]
  },
  {
   "cell_type": "code",
   "execution_count": 20,
   "metadata": {},
   "outputs": [
    {
     "name": "stdout",
     "output_type": "stream",
     "text": [
      "epoch:0  loss=8.1307; \n",
      " MAE=2.5390; RMSE=2.8111; Recall=0.0350; Precision=0.0741\n",
      "epoch:10  loss=4.2898; \n",
      " MAE=2.2812; RMSE=2.5880; Recall=0.0896; Precision=0.1900\n",
      "epoch:20  loss=4.1073; \n",
      " MAE=2.2790; RMSE=2.5824; Recall=0.0887; Precision=0.1882\n",
      "epoch:30  loss=4.2807; \n",
      " MAE=2.2333; RMSE=2.5470; Recall=0.0882; Precision=0.1872\n",
      "epoch:40  loss=4.1220; \n",
      " MAE=2.2440; RMSE=2.5586; Recall=0.0891; Precision=0.1890\n",
      "epoch:50  loss=3.8063; \n",
      " MAE=2.2569; RMSE=2.5642; Recall=0.0868; Precision=0.1842\n",
      "epoch:60  loss=4.0782; \n",
      " MAE=2.2741; RMSE=2.5791; Recall=0.0886; Precision=0.1878\n",
      "epoch:70  loss=4.3228; \n",
      " MAE=2.2770; RMSE=2.5837; Recall=0.0892; Precision=0.1892\n",
      "epoch:80  loss=5.0516; \n",
      " MAE=2.2537; RMSE=2.5656; Recall=0.0880; Precision=0.1866\n",
      "epoch:90  loss=4.0611; \n",
      " MAE=2.2793; RMSE=2.5856; Recall=0.0890; Precision=0.1887\n"
     ]
    },
    {
     "data": {
      "image/png": "[encoded data removed]",
      "text/plain": [
       "<Figure size 432x288 with 1 Axes>"
      ]
     },
     "metadata": {
      "needs_background": "light"
     },
     "output_type": "display_data"
    },
    {
     "data": {
      "image/png": "[encoded data removed]",
      "text/plain": [
       "<Figure size 432x288 with 1 Axes>"
      ]
     },
     "metadata": {
      "needs_background": "light"
     },
     "output_type": "display_data"
    },
    {
     "data": {
      "image/png": "[encoded data removed]",
      "text/plain": [
       "<Figure size 432x288 with 1 Axes>"
      ]
     },
     "metadata": {
      "needs_background": "light"
     },
     "output_type": "display_data"
    }
   ],
   "source": [
    "model = cdae(users_num = items_num,\n",
    "             items_num = users_num,\n",
    "             hidden_size = hidden_size,\n",
    "             batch_size = batch_size,\n",
    "             learning_rate = learning_rate,\n",
    "             lamda_regularizer = lamda_regularizer,\n",
    "             dropout_rate = dropout_rate)\n",
    "\n",
    "item_array = np.array([i for i in range(items_num)])\n",
    "input_data = np.c_[item_array, train_mat.T]\n",
    "records_list = []\n",
    "for epoch in range(epoches):\n",
    "    data_mat = np.random.permutation(input_data) \n",
    "    loss = model.train(data_mat=data_mat)\n",
    "    \n",
    "    pred_mat = model.predict_ratings(data_mat=np.c_[item_array, train_mat.T]) # Compare1\n",
    "    mae, rmse, recall, precision = evaluation(pred_mat.T, train_mat, test_mat) # Compare2\n",
    "    \n",
    "    ### This is what used in User based filtering. Note the difference\n",
    "    # pred_mat = model.predict_ratings(data_mat=np.c_[user_array, train_mat]) # Compare1\n",
    "    # mae, rmse, recall, precision = evaluation(pred_mat, train_mat, test_mat) # Compare2\n",
    "    \n",
    "    records_list.append([loss[-1],mae, rmse, recall, precision])\n",
    "    if epoch % 10==0:\n",
    "        print('epoch:%d  loss=%.4f; \\n MAE=%.4f; RMSE=%.4f; Recall=%.4f; Precision=%.4f'\n",
    "              %(epoch, loss[-1], mae, rmse, recall, precision))\n",
    "\n",
    "figure(values_list=np.array(records_list)[:,0],name='loss')\n",
    "figure(values_list=np.array(records_list)[:,2],name='RMSE')\n",
    "figure(values_list=np.array(records_list)[:,-1],name='Precision')"
   ]
  },
  {
   "cell_type": "markdown",
   "metadata": {},
   "source": [
    "<h3>Comparisons and Discussion</h3>"
   ]
  },
  {
   "cell_type": "markdown",
   "metadata": {},
   "source": [
    "<h3>For the MLP</h3>"
   ]
  },
  {
   "cell_type": "markdown",
   "metadata": {},
   "source": [
    "![images](./images/MLP-structure.png)"
   ]
  },
  {
   "cell_type": "markdown",
   "metadata": {},
   "source": [
    "Note that we use an Embdedding layer here to reduce the dimensional space of the input vectors. It is too spares (One user may only see several movies and left all the other ratings 0)."
   ]
  },
  {
   "cell_type": "markdown",
   "metadata": {},
   "source": [
    "The Loss function of MLP for recommand system is:"
   ]
  },
  {
   "cell_type": "markdown",
   "metadata": {},
   "source": [
    "![images](./images/MLP_Loss_function.png)"
   ]
  },
  {
   "cell_type": "markdown",
   "metadata": {},
   "source": [
    "Note that <strong>O</strong> mean the interaction of user and item while <strong>O-</strong> means the other parts. Hence in set <strong>O</strong> we have y_{u}{i} = 1, and in <strong>O-</strong> we have y_{u}{i} = 0"
   ]
  },
  {
   "cell_type": "markdown",
   "metadata": {},
   "source": [
    "<h3>For CDAE,</h3>"
   ]
  },
  {
   "cell_type": "markdown",
   "metadata": {},
   "source": [
    "![images](./images/Auto-Encoder.png)"
   ]
  },
  {
   "cell_type": "markdown",
   "metadata": {},
   "source": [
    "Note the difference between CDAE and normal AE is that we have noise and dropout sampling in the inputs. Therefore it can deal with overfitting better."
   ]
  },
  {
   "cell_type": "markdown",
   "metadata": {},
   "source": [
    "![images](./images/Auto-loss.png)"
   ]
  },
  {
   "cell_type": "markdown",
   "metadata": {},
   "source": [
    "Note that W is the movies' weight (W' is the weight in output) while V is users' weight. y^(~) is the input after dropout sampling and y is the output."
   ]
  },
  {
   "cell_type": "markdown",
   "metadata": {},
   "source": [
    "<h4>After comparsion we can find the CDAE performs better then MLP in RMSE (Accuracy is not a good benchmark). This is what we expected.</h4>"
   ]
  },
  {
   "cell_type": "markdown",
   "metadata": {},
   "source": [
    "<h4>Then I am going to compare the result of part1 and part2</h4>"
   ]
  },
  {
   "cell_type": "markdown",
   "metadata": {},
   "source": [
    "Generally speaking part1 is doing recommandation based on rules and it depends on nearest neighbours. The standard procedure of finding k nearest neighbours is:\n",
    "    1. Find the distances between the data points based on Pearson correlation，Cosine，Squared Distance etc\n",
    "    2. Select the nearest neighbours.\n",
    "    3. Make predictions based on this."
   ]
  },
  {
   "cell_type": "markdown",
   "metadata": {},
   "source": [
    "This method is not as advanced as part2's Deep Learning based methods because of many reasons. I am going to introduce the sparsity of data and embedding. Let's use Pearson correlation as an example. The equation of Pearson correlation is like this:"
   ]
  },
  {
   "cell_type": "markdown",
   "metadata": {},
   "source": [
    "![images](./images/P1.png)"
   ]
  },
  {
   "cell_type": "markdown",
   "metadata": {},
   "source": [
    "and we have to use this equation to perform predictions"
   ]
  },
  {
   "cell_type": "markdown",
   "metadata": {},
   "source": [
    "![images](./images/P2.png)"
   ]
  },
  {
   "cell_type": "markdown",
   "metadata": {},
   "source": [
    "where the S^(~)_{m}{n} is calculated by"
   ]
  },
  {
   "cell_type": "markdown",
   "metadata": {},
   "source": [
    "![images](./images/P4.png)"
   ]
  },
  {
   "cell_type": "markdown",
   "metadata": {},
   "source": [
    "We can clearly see if the dataset is too big then the overlap between to users' choice becomes very small. From the expression we know if two movies have small overlap then the S will become very small, which indicates the degree of similarity between them is not reliable. In the big and sparse data, the small overlaps appears everywhere and it will significantly reduce the reliability of the system. To solve this problem, we add embeddings in the DL models and it solve this problem very well."
   ]
  }
 ],
 "metadata": {
  "anaconda-cloud": {},
  "kernelspec": {
   "display_name": "Python 3",
   "language": "python",
   "name": "python3"
  },
  "language_info": {
   "codemirror_mode": {
    "name": "ipython",
    "version": 3
   },
   "file_extension": ".py",
   "mimetype": "text/x-python",
   "name": "python",
   "nbconvert_exporter": "python",
   "pygments_lexer": "ipython3",
   "version": "3.6.8"
  }
 },
 "nbformat": 4,
 "nbformat_minor": 1
}
